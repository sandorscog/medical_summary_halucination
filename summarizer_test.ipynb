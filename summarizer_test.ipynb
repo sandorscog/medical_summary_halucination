{
 "cells": [
  {
   "cell_type": "code",
   "execution_count": null,
   "id": "3653a321",
   "metadata": {},
   "outputs": [],
   "source": [
    "import transformers\n",
    "import pandas as pd\n",
    "from transformers import AutoTokenizer, AutoModel, pipeline"
   ]
  },
  {
   "cell_type": "code",
   "execution_count": null,
   "id": "1db90271",
   "metadata": {},
   "outputs": [],
   "source": [
    "data = pd.read_csv('./sample_data/discharge.csv')"
   ]
  },
  {
   "cell_type": "code",
   "execution_count": null,
   "id": "5a7a3539",
   "metadata": {},
   "outputs": [],
   "source": [
    "summarizer = pipeline(\"summarization\", model=\"Falconsai/medical_summarization\")\n"
   ]
  },
  {
   "cell_type": "code",
   "execution_count": null,
   "id": "1abff421",
   "metadata": {},
   "outputs": [],
   "source": [
    "text = data.iloc[0]['text']\n",
    "\n",
    "print(summarizer(text, max_length=2000, min_length=1500, do_sample=False)[0]['summary_text'])"
   ]
  },
  {
   "cell_type": "code",
   "execution_count": null,
   "id": "c0f4e487",
   "metadata": {},
   "outputs": [],
   "source": [
    "from factsumm import FactSumm\n",
    "factsumm = FactSumm()\n",
    "article = \"Lionel Andrés Messi (born 24 June 1987) is an Argentine professional footballer who plays as a forward and captains both Spanish club Barcelona and the Argentina national team. Often considered as the best player in the world and widely regarded as one of the greatest players of all time, Messi has won a record six Ballon d'Or awards, a record six European Golden Shoes, and in 2020 was named to the Ballon d'Or Dream Team.\"\n",
    "summary = \"Lionel Andrés Messi (born 24 Aug 1997) is an Spanish professional footballer who plays as a forward and captains both Spanish club Barcelona and the Spanish national team.\"\n",
    "factsumm(article, summary, verbose=True)"
   ]
  },
  {
   "cell_type": "code",
   "execution_count": null,
   "id": "edc0cec7",
   "metadata": {},
   "outputs": [],
   "source": [
    "from transformers import AutoTokenizer, AutoModelForSeq2SeqLM\n",
    "\n",
    "# Load tokenizer and model\n",
    "tok = AutoTokenizer.from_pretrained('GanjinZero/biobart-v2-base')\n",
    "model = AutoModelForSeq2SeqLM.from_pretrained('GanjinZero/biobart-v2-base')\n",
    "\n",
    "# Example biomedical text\n",
    "text = data.iloc[0]['text']\n",
    "\n",
    "# Tokenize the input\n",
    "inputs = tok(text, return_tensors=\"pt\", max_length=8192, truncation=True)\n",
    "\n",
    "# Generate summary\n",
    "summary_ids = model.generate(inputs[\"input_ids\"], max_length=150, min_length=40, length_penalty=2.0, num_beams=4, early_stopping=True)\n",
    "\n",
    "# Decode and print\n",
    "summary = tok.decode(summary_ids[0], skip_special_tokens=True)\n",
    "print(summary)\n"
   ]
  },
  {
   "cell_type": "code",
   "execution_count": null,
   "id": "b8503cfd",
   "metadata": {},
   "outputs": [],
   "source": [
    "print(text)"
   ]
  },
  {
   "cell_type": "code",
   "execution_count": null,
   "id": "730598e1",
   "metadata": {},
   "outputs": [],
   "source": [
    "from modules.summarizer import Summarizer\n",
    "from modules.summarizer_loader import load_bart_pipeline, load_clinical_t5_pipeline"
   ]
  },
  {
   "cell_type": "code",
   "execution_count": null,
   "id": "7fa8066b",
   "metadata": {},
   "outputs": [],
   "source": [
    "summarizer = Summarizer(model='bart')\n",
    "\n",
    "discharge = \"\"\"\n",
    "    Patient name: John Smith\n",
    "    DOB: 03/15/1972\n",
    "    MRN: 12345678\n",
    "    Admitted: 05/30/2025\n",
    "    Discharged: 06/04/2025\n",
    "    Admitting & Discharging Physician: Dr. Emily Thompson\n",
    "\n",
    "    Patient was admitted with a 3-day history of productive cough, fever up to 39°C, shortness of breath, and pleuritic chest pain. Chest X-ray showed right lower lobe pneumonia. Started on IV ceftriaxone and azithromycin. Given oxygen via nasal cannula to keep saturation above 92%.\n",
    "\n",
    "    Fever resolved after 3 days. WBC dropped from 14.2 to 8.6. Cultures were negative. Switched to oral amoxicillin-clavulanate on hospital day 4. Blood glucose managed with insulin sliding scale. BP controlled with amlodipine.\n",
    "\n",
    "    Discharge meds:\n",
    "\n",
    "        Amoxicillin-clavulanate 875/125 mg PO BID for 3 more days\n",
    "\n",
    "        Amlodipine 5 mg daily\n",
    "\n",
    "        Metformin 500 mg BID\n",
    "\n",
    "        Acetaminophen 500 mg PRN\n",
    "\n",
    "    Follow-up with primary care in 1 week. Repeat chest X-ray in 6 weeks. Endocrinology referral for diabetes.\n",
    "\n",
    "    Patient discharged stable, afebrile, eating and walking independently.\n",
    "\"\"\"\n",
    "\n",
    "summ = summarizer.summ(discharge)"
   ]
  },
  {
   "cell_type": "code",
   "execution_count": null,
   "id": "5b46bda5",
   "metadata": {},
   "outputs": [],
   "source": [
    "import evaluate\n",
    "\n",
    "rouge = evaluate.load(\"rouge\")\n",
    "\n",
    "results = rouge.compute(predictions=[summ], references=[discharge])\n",
    "\n",
    "for k, v in results.items():\n",
    "    print(f\"{k}: {v:.4f}\")"
   ]
  },
  {
   "cell_type": "code",
   "execution_count": null,
   "id": "97b05f49",
   "metadata": {},
   "outputs": [],
   "source": [
    "bs = evaluate.load('bertscore')\n",
    "results = bs.compute(predictions=[summ], references=[discharge], lang=\"en\")\n"
   ]
  },
  {
   "cell_type": "code",
   "execution_count": null,
   "id": "40e86d63",
   "metadata": {},
   "outputs": [],
   "source": [
    "results"
   ]
  },
  {
   "cell_type": "code",
   "execution_count": null,
   "id": "e86c569f",
   "metadata": {},
   "outputs": [],
   "source": [
    "results"
   ]
  },
  {
   "cell_type": "code",
   "execution_count": null,
   "id": "0b0b2bae",
   "metadata": {},
   "outputs": [],
   "source": [
    "texts = [\n",
    "    'The patient is a 67-year-old male with a history of congestive heart failure, hypertension, and type 2 diabetes mellitus. He was admitted with worsening shortness of breath and leg swelling. Echocardiogram showed an ejection fraction of 35%. He was started on intravenous diuretics and his symptoms improved. Blood glucose levels were managed with insulin. The patient was counseled on a low-sodium, heart-healthy diet and discharged on Lasix, Metoprolol, and Lisinopril. Follow-up was scheduled with cardiology and endocrinology. He was advised to monitor weight daily and return if symptoms worsen.',\n",
    "    'Artificial intelligence is reshaping industries worldwide. Companies are investing heavily in AI tools to optimize operations, enhance customer service, and develop new products. From healthcare to finance, AI applications are improving diagnostics, fraud detection, and decision-making. However, concerns remain about job displacement, ethical AI use, and data privacy. Governments are beginning to propose regulatory frameworks to ensure safe development and deployment. Experts emphasize the importance of transparency, accountability, and fairness in AI systems. The global AI market is expected to grow significantly over the next decade, driving innovation while presenting complex challenges for society.',\n",
    "    'The Industrial Revolution marked a major turning point in history, transforming economies from agrarian to industrial. Beginning in the late 18th century in Britain, it saw the invention of machines such as the spinning jenny and steam engine. These innovations revolutionized textile production and transportation. Urbanization increased as people moved to cities for factory jobs. While industrialization boosted productivity and wealth, it also brought harsh labor conditions and environmental degradation. Social reform movements emerged to address these issues, laying the groundwork for modern labor laws. The revolution eventually spread globally, influencing economic structures and societal organization.',\n",
    "    'In recent weeks, extreme weather events have impacted multiple countries. Flooding in southern Asia has displaced thousands, while record-breaking heat waves in parts of Europe and North America have strained power grids and healthcare systems. Scientists attribute these patterns to climate change, warning of increasingly frequent and intense events in the future. Governments are responding with emergency aid, infrastructure reviews, and climate adaptation plans. Environmental groups are urging faster action on emissions reductions. These events underscore the urgent need for coordinated international efforts to mitigate climate risks and protect vulnerable populations worldwide.',\n",
    "    'Photosynthesis is a critical biological process through which green plants, algae, and some bacteria convert light energy into chemical energy. Using sunlight, carbon dioxide from the air, and water from the soil, plants produce glucose and oxygen. This process occurs primarily in the chloroplasts of plant cells and involves two main stages: the light-dependent reactions and the Calvin cycle. Photosynthesis not only sustains plant growth but also forms the foundation of most food chains. Additionally, it plays a vital role in regulating atmospheric carbon dioxide levels, contributing to climate stability and supporting life on Earth.',\n",
    "]"
   ]
  },
  {
   "cell_type": "code",
   "execution_count": null,
   "id": "6064e579",
   "metadata": {},
   "outputs": [],
   "source": [
    "discharges = data[:15]['text'].tolist()"
   ]
  },
  {
   "cell_type": "code",
   "execution_count": null,
   "id": "e828d711",
   "metadata": {},
   "outputs": [],
   "source": [
    "from modules.SummaryManager import EvalSummaryManager"
   ]
  },
  {
   "cell_type": "code",
   "execution_count": null,
   "id": "2acb494c",
   "metadata": {},
   "outputs": [],
   "source": [
    "eval = EvalSummaryManager()\n",
    "eval.add_model('bart')\n",
    "eval.add_model('t5')\n",
    "results = eval.everything_eval(discharges)\n",
    "results"
   ]
  },
  {
   "cell_type": "code",
   "execution_count": null,
   "id": "a0d9011d",
   "metadata": {},
   "outputs": [],
   "source": [
    "print(discharges[4])"
   ]
  }
 ],
 "metadata": {
  "kernelspec": {
   "display_name": "verdi",
   "language": "python",
   "name": "python3"
  },
  "language_info": {
   "codemirror_mode": {
    "name": "ipython",
    "version": 3
   },
   "file_extension": ".py",
   "mimetype": "text/x-python",
   "name": "python",
   "nbconvert_exporter": "python",
   "pygments_lexer": "ipython3",
   "version": "3.11.10"
  }
 },
 "nbformat": 4,
 "nbformat_minor": 5
}
