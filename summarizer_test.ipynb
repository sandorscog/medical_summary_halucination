{
 "cells": [
  {
   "cell_type": "code",
   "execution_count": 1,
   "id": "3653a321",
   "metadata": {},
   "outputs": [
    {
     "name": "stderr",
     "output_type": "stream",
     "text": [
      "/home/sandor/.conda/envs/verdi/lib/python3.11/site-packages/tqdm/auto.py:21: TqdmWarning: IProgress not found. Please update jupyter and ipywidgets. See https://ipywidgets.readthedocs.io/en/stable/user_install.html\n",
      "  from .autonotebook import tqdm as notebook_tqdm\n",
      "/home/sandor/.conda/envs/verdi/lib/python3.11/site-packages/transformers/utils/generic.py:441: FutureWarning: `torch.utils._pytree._register_pytree_node` is deprecated. Please use `torch.utils._pytree.register_pytree_node` instead.\n",
      "  _torch_pytree._register_pytree_node(\n",
      "/home/sandor/.conda/envs/verdi/lib/python3.11/site-packages/transformers/utils/generic.py:309: FutureWarning: `torch.utils._pytree._register_pytree_node` is deprecated. Please use `torch.utils._pytree.register_pytree_node` instead.\n",
      "  _torch_pytree._register_pytree_node(\n"
     ]
    }
   ],
   "source": [
    "import pandas as pd\n",
    "from transformers import pipeline\n",
    "from modules.SummaryManager import EvalSummaryManager\n",
    "\n",
    "from modules.summarizer import Summarizer\n",
    "import evaluate"
   ]
  },
  {
   "cell_type": "code",
   "execution_count": 2,
   "id": "1db90271",
   "metadata": {},
   "outputs": [],
   "source": [
    "data = pd.read_csv('./sample_data/discharge.csv')"
   ]
  },
  {
   "cell_type": "code",
   "execution_count": null,
   "id": "5a7a3539",
   "metadata": {},
   "outputs": [],
   "source": [
    "summarizer = pipeline(\"summarization\", model=\"Falconsai/medical_summarization\")\n"
   ]
  },
  {
   "cell_type": "code",
   "execution_count": null,
   "id": "1abff421",
   "metadata": {},
   "outputs": [],
   "source": [
    "text = data.iloc[0]['text']\n",
    "\n",
    "print(summarizer(text, max_length=2000, min_length=1500, do_sample=False)[0]['summary_text'])"
   ]
  },
  {
   "cell_type": "code",
   "execution_count": 3,
   "id": "7fa8066b",
   "metadata": {},
   "outputs": [],
   "source": [
    "summarizer = Summarizer(model='gemini')\n",
    "\n",
    "discharge = '''\n",
    "    Patient name: John Smith\n",
    "    DOB: 03/15/1972\n",
    "    MRN: 12345678\n",
    "    Admitted: 05/30/2025\n",
    "    Discharged: 06/04/2025\n",
    "    Admitting & Discharging Physician: Dr. Emily Thompson\n",
    "\n",
    "    Patient was admitted with a 3-day history of productive cough, fever up to 39°C, shortness of breath, and pleuritic chest pain. Chest X-ray showed right lower lobe pneumonia. Started on IV ceftriaxone and azithromycin. Given oxygen via nasal cannula to keep saturation above 92%.\n",
    "\n",
    "    Fever resolved after 3 days. WBC dropped from 14.2 to 8.6. Cultures were negative. Switched to oral amoxicillin-clavulanate on hospital day 4. Blood glucose managed with insulin sliding scale. BP controlled with amlodipine.\n",
    "\n",
    "    Discharge meds:\n",
    "\n",
    "        Amoxicillin-clavulanate 875/125 mg PO BID for 3 more days\n",
    "\n",
    "        Amlodipine 5 mg daily\n",
    "\n",
    "        Metformin 500 mg BID\n",
    "\n",
    "        Acetaminophen 500 mg PRN\n",
    "\n",
    "    Follow-up with primary care in 1 week. Repeat chest X-ray in 6 weeks. Endocrinology referral for diabetes.\n",
    "\n",
    "    Patient discharged stable, afebrile, eating and walking independently.\n",
    "'''\n",
    "\n",
    "summ = summarizer.summ(discharge)"
   ]
  },
  {
   "cell_type": "code",
   "execution_count": null,
   "id": "5b46bda5",
   "metadata": {},
   "outputs": [],
   "source": [
    "\n",
    "\n",
    "rouge = evaluate.load('rouge')\n",
    "\n",
    "results = rouge.compute(predictions=[summ], references=[discharge])\n",
    "\n",
    "for k, v in results.items():\n",
    "    print(f'{k}: {v:.4f}')"
   ]
  },
  {
   "cell_type": "code",
   "execution_count": null,
   "id": "97b05f49",
   "metadata": {},
   "outputs": [],
   "source": [
    "bs = evaluate.load('bertscore')\n",
    "results = bs.compute(predictions=[summ], references=[discharge], lang=\"en\")\n"
   ]
  },
  {
   "cell_type": "code",
   "execution_count": null,
   "id": "40e86d63",
   "metadata": {},
   "outputs": [],
   "source": [
    "results"
   ]
  },
  {
   "cell_type": "code",
   "execution_count": null,
   "id": "e86c569f",
   "metadata": {},
   "outputs": [],
   "source": [
    "results"
   ]
  },
  {
   "cell_type": "code",
   "execution_count": null,
   "id": "0b0b2bae",
   "metadata": {},
   "outputs": [],
   "source": [
    "texts = [\n",
    "    'The patient is a 67-year-old male with a history of congestive heart failure, hypertension, and type 2 diabetes mellitus. He was admitted with worsening shortness of breath and leg swelling. Echocardiogram showed an ejection fraction of 35%. He was started on intravenous diuretics and his symptoms improved. Blood glucose levels were managed with insulin. The patient was counseled on a low-sodium, heart-healthy diet and discharged on Lasix, Metoprolol, and Lisinopril. Follow-up was scheduled with cardiology and endocrinology. He was advised to monitor weight daily and return if symptoms worsen.',\n",
    "    'Artificial intelligence is reshaping industries worldwide. Companies are investing heavily in AI tools to optimize operations, enhance customer service, and develop new products. From healthcare to finance, AI applications are improving diagnostics, fraud detection, and decision-making. However, concerns remain about job displacement, ethical AI use, and data privacy. Governments are beginning to propose regulatory frameworks to ensure safe development and deployment. Experts emphasize the importance of transparency, accountability, and fairness in AI systems. The global AI market is expected to grow significantly over the next decade, driving innovation while presenting complex challenges for society.',\n",
    "    'The Industrial Revolution marked a major turning point in history, transforming economies from agrarian to industrial. Beginning in the late 18th century in Britain, it saw the invention of machines such as the spinning jenny and steam engine. These innovations revolutionized textile production and transportation. Urbanization increased as people moved to cities for factory jobs. While industrialization boosted productivity and wealth, it also brought harsh labor conditions and environmental degradation. Social reform movements emerged to address these issues, laying the groundwork for modern labor laws. The revolution eventually spread globally, influencing economic structures and societal organization.',\n",
    "    'In recent weeks, extreme weather events have impacted multiple countries. Flooding in southern Asia has displaced thousands, while record-breaking heat waves in parts of Europe and North America have strained power grids and healthcare systems. Scientists attribute these patterns to climate change, warning of increasingly frequent and intense events in the future. Governments are responding with emergency aid, infrastructure reviews, and climate adaptation plans. Environmental groups are urging faster action on emissions reductions. These events underscore the urgent need for coordinated international efforts to mitigate climate risks and protect vulnerable populations worldwide.',\n",
    "    'Photosynthesis is a critical biological process through which green plants, algae, and some bacteria convert light energy into chemical energy. Using sunlight, carbon dioxide from the air, and water from the soil, plants produce glucose and oxygen. This process occurs primarily in the chloroplasts of plant cells and involves two main stages: the light-dependent reactions and the Calvin cycle. Photosynthesis not only sustains plant growth but also forms the foundation of most food chains. Additionally, it plays a vital role in regulating atmospheric carbon dioxide levels, contributing to climate stability and supporting life on Earth.',\n",
    "]"
   ]
  },
  {
   "cell_type": "code",
   "execution_count": 3,
   "id": "6064e579",
   "metadata": {},
   "outputs": [],
   "source": [
    "discharges = data[:25]['text'].tolist()"
   ]
  },
  {
   "cell_type": "code",
   "execution_count": 4,
   "id": "2acb494c",
   "metadata": {},
   "outputs": [
    {
     "name": "stderr",
     "output_type": "stream",
     "text": [
      "/home/sandor/.conda/envs/verdi/lib/python3.11/site-packages/huggingface_hub/file_download.py:896: FutureWarning: `resume_download` is deprecated and will be removed in version 1.0.0. Downloads always resume when possible. If you want to force a new download, use `force_download=True`.\n",
      "  warnings.warn(\n",
      "Some weights of RobertaModel were not initialized from the model checkpoint at roberta-large and are newly initialized: ['roberta.pooler.dense.weight', 'roberta.pooler.dense.bias']\n",
      "You should probably TRAIN this model on a down-stream task to be able to use it for predictions and inference.\n"
     ]
    },
    {
     "data": {
      "text/html": [
       "<div>\n",
       "<style scoped>\n",
       "    .dataframe tbody tr th:only-of-type {\n",
       "        vertical-align: middle;\n",
       "    }\n",
       "\n",
       "    .dataframe tbody tr th {\n",
       "        vertical-align: top;\n",
       "    }\n",
       "\n",
       "    .dataframe thead th {\n",
       "        text-align: right;\n",
       "    }\n",
       "</style>\n",
       "<table border=\"1\" class=\"dataframe\">\n",
       "  <thead>\n",
       "    <tr style=\"text-align: right;\">\n",
       "      <th></th>\n",
       "      <th>text</th>\n",
       "      <th>model</th>\n",
       "      <th>summary</th>\n",
       "      <th>bert_precision</th>\n",
       "      <th>bert_recall</th>\n",
       "      <th>bert_f1</th>\n",
       "      <th>rouge1</th>\n",
       "      <th>rouge2</th>\n",
       "      <th>rougeL</th>\n",
       "    </tr>\n",
       "  </thead>\n",
       "  <tbody>\n",
       "    <tr>\n",
       "      <th>0</th>\n",
       "      <td>\\nName:  ___                     Unit No:   _...</td>\n",
       "      <td>bart</td>\n",
       "      <td>She has HCV cirrhosis c/b ascites, hiv on ART,...</td>\n",
       "      <td>0.874586</td>\n",
       "      <td>0.746557</td>\n",
       "      <td>0.805516</td>\n",
       "      <td>0.070283</td>\n",
       "      <td>0.053558</td>\n",
       "      <td>0.061115</td>\n",
       "    </tr>\n",
       "    <tr>\n",
       "      <th>1</th>\n",
       "      <td>\\nName:  ___                     Unit No:   _...</td>\n",
       "      <td>t5</td>\n",
       "      <td>with worsening abd distension and discomfort, ...</td>\n",
       "      <td>0.898689</td>\n",
       "      <td>0.774065</td>\n",
       "      <td>0.831735</td>\n",
       "      <td>0.061397</td>\n",
       "      <td>0.053805</td>\n",
       "      <td>0.036838</td>\n",
       "    </tr>\n",
       "    <tr>\n",
       "      <th>2</th>\n",
       "      <td>\\nName:  ___                     Unit No:   _...</td>\n",
       "      <td>gemini</td>\n",
       "      <td>This is a discharge summary for a female patie...</td>\n",
       "      <td>0.822966</td>\n",
       "      <td>0.797452</td>\n",
       "      <td>0.810009</td>\n",
       "      <td>0.175193</td>\n",
       "      <td>0.037895</td>\n",
       "      <td>0.091100</td>\n",
       "    </tr>\n",
       "    <tr>\n",
       "      <th>3</th>\n",
       "      <td>\\nName:  ___                     Unit No:   _...</td>\n",
       "      <td>bart</td>\n",
       "      <td>HIV on HAART, COPD, HCV cirrhosis complicated ...</td>\n",
       "      <td>0.921255</td>\n",
       "      <td>0.760030</td>\n",
       "      <td>0.832913</td>\n",
       "      <td>0.057988</td>\n",
       "      <td>0.055687</td>\n",
       "      <td>0.057988</td>\n",
       "    </tr>\n",
       "    <tr>\n",
       "      <th>4</th>\n",
       "      <td>\\nName:  ___                     Unit No:   _...</td>\n",
       "      <td>t5</td>\n",
       "      <td>and felt better after discharge, abdominal dis...</td>\n",
       "      <td>0.900747</td>\n",
       "      <td>0.773252</td>\n",
       "      <td>0.832144</td>\n",
       "      <td>0.051039</td>\n",
       "      <td>0.046346</td>\n",
       "      <td>0.042730</td>\n",
       "    </tr>\n",
       "    <tr>\n",
       "      <th>...</th>\n",
       "      <td>...</td>\n",
       "      <td>...</td>\n",
       "      <td>...</td>\n",
       "      <td>...</td>\n",
       "      <td>...</td>\n",
       "      <td>...</td>\n",
       "      <td>...</td>\n",
       "      <td>...</td>\n",
       "      <td>...</td>\n",
       "    </tr>\n",
       "    <tr>\n",
       "      <th>70</th>\n",
       "      <td>\\nName:  ___          Unit No:   ___\\n \\nAdmi...</td>\n",
       "      <td>t5</td>\n",
       "      <td>on exertion and PND after a lengthy prior hosp...</td>\n",
       "      <td>0.872372</td>\n",
       "      <td>0.753523</td>\n",
       "      <td>0.808604</td>\n",
       "      <td>0.050955</td>\n",
       "      <td>0.035069</td>\n",
       "      <td>0.042463</td>\n",
       "    </tr>\n",
       "    <tr>\n",
       "      <th>71</th>\n",
       "      <td>\\nName:  ___          Unit No:   ___\\n \\nAdmi...</td>\n",
       "      <td>gemini</td>\n",
       "      <td>This is a medical discharge summary for a fema...</td>\n",
       "      <td>0.832373</td>\n",
       "      <td>0.788438</td>\n",
       "      <td>0.809810</td>\n",
       "      <td>0.189928</td>\n",
       "      <td>0.069131</td>\n",
       "      <td>0.083453</td>\n",
       "    </tr>\n",
       "    <tr>\n",
       "      <th>72</th>\n",
       "      <td>\\nName:  ___          Unit No:   ___\\n \\nAdmi...</td>\n",
       "      <td>bart</td>\n",
       "      <td>Patient has history of coronary artery disease...</td>\n",
       "      <td>0.917545</td>\n",
       "      <td>0.786275</td>\n",
       "      <td>0.846853</td>\n",
       "      <td>0.055300</td>\n",
       "      <td>0.047799</td>\n",
       "      <td>0.052786</td>\n",
       "    </tr>\n",
       "    <tr>\n",
       "      <th>73</th>\n",
       "      <td>\\nName:  ___          Unit No:   ___\\n \\nAdmi...</td>\n",
       "      <td>t5</td>\n",
       "      <td>when trying to walk up the stairs in her home....</td>\n",
       "      <td>0.907114</td>\n",
       "      <td>0.751622</td>\n",
       "      <td>0.822080</td>\n",
       "      <td>0.037241</td>\n",
       "      <td>0.036425</td>\n",
       "      <td>0.037241</td>\n",
       "    </tr>\n",
       "    <tr>\n",
       "      <th>74</th>\n",
       "      <td>\\nName:  ___          Unit No:   ___\\n \\nAdmi...</td>\n",
       "      <td>gemini</td>\n",
       "      <td>This discharge summary details the hospitaliza...</td>\n",
       "      <td>0.822462</td>\n",
       "      <td>0.770473</td>\n",
       "      <td>0.795619</td>\n",
       "      <td>0.148554</td>\n",
       "      <td>0.051643</td>\n",
       "      <td>0.075841</td>\n",
       "    </tr>\n",
       "  </tbody>\n",
       "</table>\n",
       "<p>75 rows × 9 columns</p>\n",
       "</div>"
      ],
      "text/plain": [
       "                                                 text   model  \\\n",
       "0    \\nName:  ___                     Unit No:   _...    bart   \n",
       "1    \\nName:  ___                     Unit No:   _...      t5   \n",
       "2    \\nName:  ___                     Unit No:   _...  gemini   \n",
       "3    \\nName:  ___                     Unit No:   _...    bart   \n",
       "4    \\nName:  ___                     Unit No:   _...      t5   \n",
       "..                                                ...     ...   \n",
       "70   \\nName:  ___          Unit No:   ___\\n \\nAdmi...      t5   \n",
       "71   \\nName:  ___          Unit No:   ___\\n \\nAdmi...  gemini   \n",
       "72   \\nName:  ___          Unit No:   ___\\n \\nAdmi...    bart   \n",
       "73   \\nName:  ___          Unit No:   ___\\n \\nAdmi...      t5   \n",
       "74   \\nName:  ___          Unit No:   ___\\n \\nAdmi...  gemini   \n",
       "\n",
       "                                              summary  bert_precision  \\\n",
       "0   She has HCV cirrhosis c/b ascites, hiv on ART,...        0.874586   \n",
       "1   with worsening abd distension and discomfort, ...        0.898689   \n",
       "2   This is a discharge summary for a female patie...        0.822966   \n",
       "3   HIV on HAART, COPD, HCV cirrhosis complicated ...        0.921255   \n",
       "4   and felt better after discharge, abdominal dis...        0.900747   \n",
       "..                                                ...             ...   \n",
       "70  on exertion and PND after a lengthy prior hosp...        0.872372   \n",
       "71  This is a medical discharge summary for a fema...        0.832373   \n",
       "72  Patient has history of coronary artery disease...        0.917545   \n",
       "73  when trying to walk up the stairs in her home....        0.907114   \n",
       "74  This discharge summary details the hospitaliza...        0.822462   \n",
       "\n",
       "    bert_recall   bert_f1    rouge1    rouge2    rougeL  \n",
       "0      0.746557  0.805516  0.070283  0.053558  0.061115  \n",
       "1      0.774065  0.831735  0.061397  0.053805  0.036838  \n",
       "2      0.797452  0.810009  0.175193  0.037895  0.091100  \n",
       "3      0.760030  0.832913  0.057988  0.055687  0.057988  \n",
       "4      0.773252  0.832144  0.051039  0.046346  0.042730  \n",
       "..          ...       ...       ...       ...       ...  \n",
       "70     0.753523  0.808604  0.050955  0.035069  0.042463  \n",
       "71     0.788438  0.809810  0.189928  0.069131  0.083453  \n",
       "72     0.786275  0.846853  0.055300  0.047799  0.052786  \n",
       "73     0.751622  0.822080  0.037241  0.036425  0.037241  \n",
       "74     0.770473  0.795619  0.148554  0.051643  0.075841  \n",
       "\n",
       "[75 rows x 9 columns]"
      ]
     },
     "execution_count": 4,
     "metadata": {},
     "output_type": "execute_result"
    }
   ],
   "source": [
    "eval = EvalSummaryManager()\n",
    "eval.add_model('bart')\n",
    "eval.add_model('t5')\n",
    "eval.add_model('gemini')\n",
    "results = eval.everything_eval(discharges)\n",
    "results"
   ]
  },
  {
   "cell_type": "code",
   "execution_count": null,
   "id": "a0d9011d",
   "metadata": {},
   "outputs": [],
   "source": [
    "results.to_csv('output_metricas_mimic.csv', index=False)"
   ]
  },
  {
   "cell_type": "code",
   "execution_count": null,
   "id": "1834824f",
   "metadata": {},
   "outputs": [],
   "source": [
    "results"
   ]
  },
  {
   "cell_type": "code",
   "execution_count": null,
   "id": "89a32e4d",
   "metadata": {},
   "outputs": [
    {
     "name": "stdout",
     "output_type": "stream",
     "text": [
      "AI lets computers learn patterns from data to make decisions or perform tasks.\n"
     ]
    }
   ],
   "source": [
    "import google.generativeai as genai\n",
    "import json\n",
    "\n",
    "with open('config/cred.json') as f:\n",
    "    config = json.load(f)\n",
    "    api_key = config['api_key']\n",
    "\n",
    "genai.configure(api_key=api_key)\n",
    "\n",
    "model = genai.GenerativeModel(model_name='gemini-2.5-flash')\n",
    "\n",
    "response = model.generate_content('Explain how AI works in a few words')\n",
    "print(response.text)\n"
   ]
  },
  {
   "cell_type": "code",
   "execution_count": 7,
   "id": "1a9a5dfc",
   "metadata": {},
   "outputs": [
    {
     "data": {
      "text/plain": [
       "'A 67-year-old male with a history of congestive heart failure, hypertension, and type 2 diabetes was admitted for worsening shortness of breath and leg swelling. An echocardiogram showed an ejection fraction of 35%. He was treated with intravenous diuretics, which improved his symptoms, and his blood glucose was managed with insulin. He was discharged on Lasix, Metoprolol, and Lisinopril, with counseling on a low-sodium diet, advice for daily weight monitoring, and scheduled follow-up with cardiology and endocrinology.'"
      ]
     },
     "execution_count": 7,
     "metadata": {},
     "output_type": "execute_result"
    }
   ],
   "source": [
    "prompt = '''\n",
    "\n",
    "summarize the following text:\n",
    "The patient is a 67-year-old male with a history of congestive heart failure, hypertension, and type 2 diabetes mellitus. He was admitted with worsening shortness of breath and leg swelling. Echocardiogram showed an ejection fraction of 35%. He was started on intravenous diuretics and his symptoms improved. Blood glucose levels were managed with insulin. The patient was counseled on a low-sodium, heart-healthy diet and discharged on Lasix, Metoprolol, and Lisinopril. Follow-up was scheduled with cardiology and endocrinology. He was advised to monitor weight daily and return if symptoms worsen.\n",
    "'''\n",
    "\n",
    "\n",
    "model.generate_content(prompt).text"
   ]
  },
  {
   "cell_type": "code",
   "execution_count": null,
   "id": "c1136731",
   "metadata": {},
   "outputs": [],
   "source": [
    "from google.cloud import bigquery\n",
    "\n",
    "# Path to your service account key file\n",
    "key_path = \"mimic-test-key.json\"\n",
    "\n",
    "# Create a client using the key file\n",
    "client = bigquery.Client.from_service_account_json(key_path)\n",
    "\n",
    "# Your SQL query\n",
    "query = \"\"\"\n",
    "SELECT *\n",
    "FROM `physionet-data.mimiciv_note.discharge`\n",
    "LIMIT 10\n",
    "\"\"\"\n",
    "\n",
    "# Run the query\n",
    "query_job = client.query(query)\n",
    "\n",
    "# Convert to DataFrame\n",
    "df = query_job.to_dataframe()\n",
    "\n",
    "print(df.head())\n"
   ]
  },
  {
   "cell_type": "code",
   "execution_count": 1,
   "id": "d0dab3a3",
   "metadata": {},
   "outputs": [
    {
     "name": "stderr",
     "output_type": "stream",
     "text": [
      "/home/sandor/.conda/envs/verdi/lib/python3.11/site-packages/google/auth/_default.py:76: UserWarning: Your application has authenticated using end user credentials from Google Cloud SDK without a quota project. You might receive a \"quota exceeded\" or \"API not enabled\" error. See the following page for troubleshooting: https://cloud.google.com/docs/authentication/adc-troubleshooting/user-creds. \n",
      "  warnings.warn(_CLOUD_SDK_CREDENTIALS_WARNING)\n",
      "/home/sandor/.conda/envs/verdi/lib/python3.11/site-packages/google/cloud/bigquery/table.py:1965: UserWarning: BigQuery Storage module not found, fetch data with the REST endpoint instead.\n",
      "  warnings.warn(\n"
     ]
    },
    {
     "name": "stdout",
     "output_type": "stream",
     "text": [
      "          note_id  subject_id   hadm_id note_type  note_seq  charttime  \\\n",
      "0  10011466-DS-18    10011466  21473984        DS        18 2191-08-30   \n",
      "1  10014354-DS-12    10014354  27494880        DS        12 2147-06-04   \n",
      "2  10023020-DS-10    10023020  23730629        DS        10 2130-09-14   \n",
      "3  10025647-DS-25    10025647  21008714        DS        25 2176-08-05   \n",
      "4   10040284-DS-5    10040284  26059791        DS         5 2144-01-23   \n",
      "5  10045326-DS-18    10045326  26512329        DS        18 2152-11-28   \n",
      "6  10059041-DS-10    10059041  23831993        DS        10 2118-02-10   \n",
      "7   10071620-DS-2    10071620  24829812        DS         2 2139-11-10   \n",
      "8  10107664-DS-13    10107664  25136353        DS        13 2162-01-27   \n",
      "9  10139992-DS-22    10139992  24997910        DS        22 2123-08-24   \n",
      "\n",
      "            storetime                                               text  \n",
      "0 2191-08-31 20:49:00   \\nName:  ___                  Unit No:   ___\\...  \n",
      "1 2147-06-04 16:26:00   \\nName:  ___                  Unit No:   ___\\...  \n",
      "2 2130-09-14 12:56:00   \\nName:  ___.               Unit No:   ___\\n ...  \n",
      "3 2176-08-07 10:00:00   \\nName:  ___.               Unit No:   ___\\n ...  \n",
      "4 2144-01-23 16:22:00   \\nName:  ___                   Unit No:   ___...  \n",
      "5 2152-11-28 21:47:00   \\nName:  ___                   Unit No:   ___...  \n",
      "6 2118-02-10 11:22:00   \\nName:  ___             Unit No:   ___\\n \\nA...  \n",
      "7 2139-11-10 16:29:00   \\nName:  ___                   Unit No:   ___...  \n",
      "8 2162-01-28 08:58:00   \\nName:  ___               Unit No:   ___\\n \\...  \n",
      "9 2123-08-25 06:14:00   \\nName:  ___                 Unit No:   ___\\n...  \n"
     ]
    }
   ],
   "source": [
    "from google.cloud import bigquery\n",
    "\n",
    "client = bigquery.Client(project='mimic-test-465504')\n",
    "\n",
    "df = client.query(\"\"\"\n",
    "SELECT *\n",
    "FROM `physionet-data.mimiciv_note.discharge`\n",
    "LIMIT 10\n",
    "\"\"\").to_dataframe()\n",
    "\n",
    "print(df)\n"
   ]
  }
 ],
 "metadata": {
  "kernelspec": {
   "display_name": "verdi",
   "language": "python",
   "name": "python3"
  },
  "language_info": {
   "codemirror_mode": {
    "name": "ipython",
    "version": 3
   },
   "file_extension": ".py",
   "mimetype": "text/x-python",
   "name": "python",
   "nbconvert_exporter": "python",
   "pygments_lexer": "ipython3",
   "version": "3.11.10"
  }
 },
 "nbformat": 4,
 "nbformat_minor": 5
}
